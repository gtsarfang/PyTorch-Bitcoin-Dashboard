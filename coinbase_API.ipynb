{
 "cells": [
  {
   "cell_type": "markdown",
   "metadata": {},
   "source": [
    "## Coinbase Pro API using cbpro"
   ]
  },
  {
   "cell_type": "code",
   "execution_count": 10,
   "metadata": {},
   "outputs": [],
   "source": [
    "import cbpro\n",
    "import pandas as pd\n",
    "from pandas.io.json import json_normalize\n",
    "from pymongo import MongoClient"
   ]
  },
  {
   "cell_type": "markdown",
   "metadata": {},
   "source": [
    "This is good for pulling in 24 hour stats and time, but I'm thinking maybe\n",
    "to use historic rates to get a more precisie time"
   ]
  },
  {
   "cell_type": "code",
   "execution_count": 11,
   "metadata": {},
   "outputs": [],
   "source": [
    "public_client = cbpro.PublicClient()"
   ]
  },
  {
   "cell_type": "markdown",
   "metadata": {},
   "source": [
    "### Using stats 24 hour stats and time"
   ]
  },
  {
   "cell_type": "code",
   "execution_count": 12,
   "metadata": {},
   "outputs": [],
   "source": [
    "stats_24hrs = public_client.get_product_24hr_stats('BTC-USD')\n",
    "time_stats = public_client.get_time()"
   ]
  },
  {
   "cell_type": "code",
   "execution_count": 13,
   "metadata": {},
   "outputs": [],
   "source": [
    "df_24hrs = json_normalize(stats_24hrs)\n",
    "df_time = json_normalize(time_stats)"
   ]
  },
  {
   "cell_type": "code",
   "execution_count": 14,
   "metadata": {},
   "outputs": [
    {
     "data": {
      "text/html": [
       "<div>\n",
       "<style scoped>\n",
       "    .dataframe tbody tr th:only-of-type {\n",
       "        vertical-align: middle;\n",
       "    }\n",
       "\n",
       "    .dataframe tbody tr th {\n",
       "        vertical-align: top;\n",
       "    }\n",
       "\n",
       "    .dataframe thead th {\n",
       "        text-align: right;\n",
       "    }\n",
       "</style>\n",
       "<table border=\"1\" class=\"dataframe\">\n",
       "  <thead>\n",
       "    <tr style=\"text-align: right;\">\n",
       "      <th></th>\n",
       "      <th>iso</th>\n",
       "      <th>epoch</th>\n",
       "      <th>open</th>\n",
       "      <th>high</th>\n",
       "      <th>low</th>\n",
       "      <th>volume</th>\n",
       "      <th>last</th>\n",
       "      <th>volume_30day</th>\n",
       "    </tr>\n",
       "  </thead>\n",
       "  <tbody>\n",
       "    <tr>\n",
       "      <th>0</th>\n",
       "      <td>2020-08-19T19:26:18.937Z</td>\n",
       "      <td>1.597865e+09</td>\n",
       "      <td>11989.34</td>\n",
       "      <td>12099.99</td>\n",
       "      <td>11611.75</td>\n",
       "      <td>16342.34176153</td>\n",
       "      <td>11704.29</td>\n",
       "      <td>484319.99809832</td>\n",
       "    </tr>\n",
       "  </tbody>\n",
       "</table>\n",
       "</div>"
      ],
      "text/plain": [
       "                        iso         epoch      open      high       low  \\\n",
       "0  2020-08-19T19:26:18.937Z  1.597865e+09  11989.34  12099.99  11611.75   \n",
       "\n",
       "           volume      last     volume_30day  \n",
       "0  16342.34176153  11704.29  484319.99809832  "
      ]
     },
     "execution_count": 14,
     "metadata": {},
     "output_type": "execute_result"
    }
   ],
   "source": [
    "df_stats = pd.concat([df_time, df_24hrs], axis = 1)\n",
    "df_stats"
   ]
  },
  {
   "cell_type": "markdown",
   "metadata": {},
   "source": [
    "### Using Historic Rates"
   ]
  },
  {
   "cell_type": "code",
   "execution_count": 6,
   "metadata": {},
   "outputs": [
    {
     "name": "stdout",
     "output_type": "stream",
     "text": [
      "Help on method get_product_historic_rates in module cbpro.public_client:\n",
      "\n",
      "get_product_historic_rates(product_id, start=None, end=None, granularity=None) method of cbpro.public_client.PublicClient instance\n",
      "    Historic rates for a product.\n",
      "    \n",
      "    Rates are returned in grouped buckets based on requested\n",
      "    `granularity`. If start, end, and granularity aren't provided,\n",
      "    the exchange will assume some (currently unknown) default values.\n",
      "    \n",
      "    Historical rate data may be incomplete. No data is published for\n",
      "    intervals where there are no ticks.\n",
      "    \n",
      "    **Caution**: Historical rates should not be polled frequently.\n",
      "    If you need real-time information, use the trade and book\n",
      "    endpoints along with the websocket feed.\n",
      "    \n",
      "    The maximum number of data points for a single request is 200\n",
      "    candles. If your selection of start/end time and granularity\n",
      "    will result in more than 200 data points, your request will be\n",
      "    rejected. If you wish to retrieve fine granularity data over a\n",
      "    larger time range, you will need to make multiple requests with\n",
      "    new start/end ranges.\n",
      "    \n",
      "    Args:\n",
      "        product_id (str): Product\n",
      "        start (Optional[str]): Start time in ISO 8601\n",
      "        end (Optional[str]): End time in ISO 8601\n",
      "        granularity (Optional[int]): Desired time slice in seconds\n",
      "    \n",
      "    Returns:\n",
      "        list: Historic candle data. Example:\n",
      "            [\n",
      "                [ time, low, high, open, close, volume ],\n",
      "                [ 1415398768, 0.32, 4.2, 0.35, 4.2, 12.3 ],\n",
      "                ...\n",
      "            ]\n",
      "\n"
     ]
    }
   ],
   "source": [
    "help(public_client.get_product_historic_rates)"
   ]
  },
  {
   "cell_type": "markdown",
   "metadata": {},
   "source": [
    "Maybe later create a function that will automatically help us grab historical day from\n",
    "the day before by generating an automatic ISO 8601 time start and end, instead of doing it manually"
   ]
  },
  {
   "cell_type": "code",
   "execution_count": 7,
   "metadata": {},
   "outputs": [],
   "source": [
    "#Time start and end in ISO 8601 format\n",
    "#Granularity refers to the desired timeslice in seconds. So 3600 secs is one hour\n",
    "\n",
    "#This is for UTC time for sunday, let me know if you need it for another time zone, maybe a feature that can be added to the dashboard\n",
    "ISO_start = \"2020-08-16T00:00:00Z\"\n",
    "ISO_end = \"2020-08-16T23:59:00Z\""
   ]
  },
  {
   "cell_type": "code",
   "execution_count": 8,
   "metadata": {},
   "outputs": [],
   "source": [
    "#this is historical data specfically for this past sunday 08/16/2020, for each hour in UTC\n",
    "bit_hist = public_client.get_product_historic_rates('BTC-USD',start = ISO_start, end = ISO_end, granularity=3600)"
   ]
  },
  {
   "cell_type": "code",
   "execution_count": 9,
   "metadata": {},
   "outputs": [
    {
     "data": {
      "text/html": [
       "<div>\n",
       "<style scoped>\n",
       "    .dataframe tbody tr th:only-of-type {\n",
       "        vertical-align: middle;\n",
       "    }\n",
       "\n",
       "    .dataframe tbody tr th {\n",
       "        vertical-align: top;\n",
       "    }\n",
       "\n",
       "    .dataframe thead th {\n",
       "        text-align: right;\n",
       "    }\n",
       "</style>\n",
       "<table border=\"1\" class=\"dataframe\">\n",
       "  <thead>\n",
       "    <tr style=\"text-align: right;\">\n",
       "      <th></th>\n",
       "      <th>time</th>\n",
       "      <th>low</th>\n",
       "      <th>high</th>\n",
       "      <th>open</th>\n",
       "      <th>close</th>\n",
       "      <th>volume</th>\n",
       "    </tr>\n",
       "  </thead>\n",
       "  <tbody>\n",
       "    <tr>\n",
       "      <th>0</th>\n",
       "      <td>1597618800</td>\n",
       "      <td>11873.83</td>\n",
       "      <td>11923.86</td>\n",
       "      <td>11909.99</td>\n",
       "      <td>11918.84</td>\n",
       "      <td>390.007840</td>\n",
       "    </tr>\n",
       "    <tr>\n",
       "      <th>1</th>\n",
       "      <td>1597615200</td>\n",
       "      <td>11835.01</td>\n",
       "      <td>11910.00</td>\n",
       "      <td>11861.60</td>\n",
       "      <td>11910.00</td>\n",
       "      <td>311.552199</td>\n",
       "    </tr>\n",
       "    <tr>\n",
       "      <th>2</th>\n",
       "      <td>1597611600</td>\n",
       "      <td>11845.00</td>\n",
       "      <td>11898.43</td>\n",
       "      <td>11849.92</td>\n",
       "      <td>11861.61</td>\n",
       "      <td>298.190880</td>\n",
       "    </tr>\n",
       "    <tr>\n",
       "      <th>3</th>\n",
       "      <td>1597608000</td>\n",
       "      <td>11799.33</td>\n",
       "      <td>11853.00</td>\n",
       "      <td>11824.45</td>\n",
       "      <td>11849.92</td>\n",
       "      <td>425.725707</td>\n",
       "    </tr>\n",
       "    <tr>\n",
       "      <th>4</th>\n",
       "      <td>1597604400</td>\n",
       "      <td>11820.00</td>\n",
       "      <td>11863.60</td>\n",
       "      <td>11835.08</td>\n",
       "      <td>11824.46</td>\n",
       "      <td>256.957096</td>\n",
       "    </tr>\n",
       "    <tr>\n",
       "      <th>5</th>\n",
       "      <td>1597600800</td>\n",
       "      <td>11809.70</td>\n",
       "      <td>11843.93</td>\n",
       "      <td>11837.93</td>\n",
       "      <td>11837.93</td>\n",
       "      <td>312.037200</td>\n",
       "    </tr>\n",
       "    <tr>\n",
       "      <th>6</th>\n",
       "      <td>1597597200</td>\n",
       "      <td>11828.68</td>\n",
       "      <td>11877.04</td>\n",
       "      <td>11867.26</td>\n",
       "      <td>11837.92</td>\n",
       "      <td>298.357453</td>\n",
       "    </tr>\n",
       "    <tr>\n",
       "      <th>7</th>\n",
       "      <td>1597593600</td>\n",
       "      <td>11856.43</td>\n",
       "      <td>11900.00</td>\n",
       "      <td>11866.01</td>\n",
       "      <td>11867.25</td>\n",
       "      <td>533.989672</td>\n",
       "    </tr>\n",
       "    <tr>\n",
       "      <th>8</th>\n",
       "      <td>1597590000</td>\n",
       "      <td>11795.62</td>\n",
       "      <td>11887.00</td>\n",
       "      <td>11811.96</td>\n",
       "      <td>11866.01</td>\n",
       "      <td>446.173132</td>\n",
       "    </tr>\n",
       "    <tr>\n",
       "      <th>9</th>\n",
       "      <td>1597586400</td>\n",
       "      <td>11790.74</td>\n",
       "      <td>11841.45</td>\n",
       "      <td>11818.29</td>\n",
       "      <td>11811.86</td>\n",
       "      <td>371.533772</td>\n",
       "    </tr>\n",
       "    <tr>\n",
       "      <th>10</th>\n",
       "      <td>1597582800</td>\n",
       "      <td>11759.96</td>\n",
       "      <td>11821.91</td>\n",
       "      <td>11779.40</td>\n",
       "      <td>11817.31</td>\n",
       "      <td>392.104276</td>\n",
       "    </tr>\n",
       "    <tr>\n",
       "      <th>11</th>\n",
       "      <td>1597579200</td>\n",
       "      <td>11686.53</td>\n",
       "      <td>11792.90</td>\n",
       "      <td>11753.41</td>\n",
       "      <td>11779.53</td>\n",
       "      <td>680.963188</td>\n",
       "    </tr>\n",
       "    <tr>\n",
       "      <th>12</th>\n",
       "      <td>1597575600</td>\n",
       "      <td>11725.14</td>\n",
       "      <td>11796.11</td>\n",
       "      <td>11792.74</td>\n",
       "      <td>11753.94</td>\n",
       "      <td>613.865866</td>\n",
       "    </tr>\n",
       "    <tr>\n",
       "      <th>13</th>\n",
       "      <td>1597572000</td>\n",
       "      <td>11760.00</td>\n",
       "      <td>11884.52</td>\n",
       "      <td>11874.00</td>\n",
       "      <td>11790.84</td>\n",
       "      <td>606.285417</td>\n",
       "    </tr>\n",
       "    <tr>\n",
       "      <th>14</th>\n",
       "      <td>1597568400</td>\n",
       "      <td>11808.76</td>\n",
       "      <td>11885.47</td>\n",
       "      <td>11847.74</td>\n",
       "      <td>11874.00</td>\n",
       "      <td>331.186925</td>\n",
       "    </tr>\n",
       "    <tr>\n",
       "      <th>15</th>\n",
       "      <td>1597564800</td>\n",
       "      <td>11815.80</td>\n",
       "      <td>11878.38</td>\n",
       "      <td>11863.05</td>\n",
       "      <td>11847.91</td>\n",
       "      <td>190.768620</td>\n",
       "    </tr>\n",
       "    <tr>\n",
       "      <th>16</th>\n",
       "      <td>1597561200</td>\n",
       "      <td>11857.01</td>\n",
       "      <td>11895.33</td>\n",
       "      <td>11892.23</td>\n",
       "      <td>11863.04</td>\n",
       "      <td>158.196044</td>\n",
       "    </tr>\n",
       "    <tr>\n",
       "      <th>17</th>\n",
       "      <td>1597557600</td>\n",
       "      <td>11869.33</td>\n",
       "      <td>11920.15</td>\n",
       "      <td>11902.94</td>\n",
       "      <td>11892.23</td>\n",
       "      <td>288.170465</td>\n",
       "    </tr>\n",
       "    <tr>\n",
       "      <th>18</th>\n",
       "      <td>1597554000</td>\n",
       "      <td>11888.30</td>\n",
       "      <td>11929.96</td>\n",
       "      <td>11900.69</td>\n",
       "      <td>11902.83</td>\n",
       "      <td>339.486817</td>\n",
       "    </tr>\n",
       "    <tr>\n",
       "      <th>19</th>\n",
       "      <td>1597550400</td>\n",
       "      <td>11881.96</td>\n",
       "      <td>11940.00</td>\n",
       "      <td>11933.97</td>\n",
       "      <td>11900.68</td>\n",
       "      <td>276.720035</td>\n",
       "    </tr>\n",
       "    <tr>\n",
       "      <th>20</th>\n",
       "      <td>1597546800</td>\n",
       "      <td>11877.49</td>\n",
       "      <td>11933.98</td>\n",
       "      <td>11877.50</td>\n",
       "      <td>11933.97</td>\n",
       "      <td>383.683266</td>\n",
       "    </tr>\n",
       "    <tr>\n",
       "      <th>21</th>\n",
       "      <td>1597543200</td>\n",
       "      <td>11847.67</td>\n",
       "      <td>11898.65</td>\n",
       "      <td>11897.95</td>\n",
       "      <td>11877.50</td>\n",
       "      <td>227.055864</td>\n",
       "    </tr>\n",
       "    <tr>\n",
       "      <th>22</th>\n",
       "      <td>1597539600</td>\n",
       "      <td>11782.29</td>\n",
       "      <td>11900.00</td>\n",
       "      <td>11815.59</td>\n",
       "      <td>11897.83</td>\n",
       "      <td>368.149242</td>\n",
       "    </tr>\n",
       "    <tr>\n",
       "      <th>23</th>\n",
       "      <td>1597536000</td>\n",
       "      <td>11796.49</td>\n",
       "      <td>11876.77</td>\n",
       "      <td>11860.02</td>\n",
       "      <td>11815.60</td>\n",
       "      <td>410.093005</td>\n",
       "    </tr>\n",
       "  </tbody>\n",
       "</table>\n",
       "</div>"
      ],
      "text/plain": [
       "          time       low      high      open     close      volume\n",
       "0   1597618800  11873.83  11923.86  11909.99  11918.84  390.007840\n",
       "1   1597615200  11835.01  11910.00  11861.60  11910.00  311.552199\n",
       "2   1597611600  11845.00  11898.43  11849.92  11861.61  298.190880\n",
       "3   1597608000  11799.33  11853.00  11824.45  11849.92  425.725707\n",
       "4   1597604400  11820.00  11863.60  11835.08  11824.46  256.957096\n",
       "5   1597600800  11809.70  11843.93  11837.93  11837.93  312.037200\n",
       "6   1597597200  11828.68  11877.04  11867.26  11837.92  298.357453\n",
       "7   1597593600  11856.43  11900.00  11866.01  11867.25  533.989672\n",
       "8   1597590000  11795.62  11887.00  11811.96  11866.01  446.173132\n",
       "9   1597586400  11790.74  11841.45  11818.29  11811.86  371.533772\n",
       "10  1597582800  11759.96  11821.91  11779.40  11817.31  392.104276\n",
       "11  1597579200  11686.53  11792.90  11753.41  11779.53  680.963188\n",
       "12  1597575600  11725.14  11796.11  11792.74  11753.94  613.865866\n",
       "13  1597572000  11760.00  11884.52  11874.00  11790.84  606.285417\n",
       "14  1597568400  11808.76  11885.47  11847.74  11874.00  331.186925\n",
       "15  1597564800  11815.80  11878.38  11863.05  11847.91  190.768620\n",
       "16  1597561200  11857.01  11895.33  11892.23  11863.04  158.196044\n",
       "17  1597557600  11869.33  11920.15  11902.94  11892.23  288.170465\n",
       "18  1597554000  11888.30  11929.96  11900.69  11902.83  339.486817\n",
       "19  1597550400  11881.96  11940.00  11933.97  11900.68  276.720035\n",
       "20  1597546800  11877.49  11933.98  11877.50  11933.97  383.683266\n",
       "21  1597543200  11847.67  11898.65  11897.95  11877.50  227.055864\n",
       "22  1597539600  11782.29  11900.00  11815.59  11897.83  368.149242\n",
       "23  1597536000  11796.49  11876.77  11860.02  11815.60  410.093005"
      ]
     },
     "execution_count": 9,
     "metadata": {},
     "output_type": "execute_result"
    }
   ],
   "source": [
    "df_bit_hist = pd.DataFrame(bit_hist, columns = ['time','low','high','open','close','volume'])\n",
    "df_bit_hist"
   ]
  },
  {
   "cell_type": "markdown",
   "metadata": {},
   "source": [
    "### Using trade and book endpoints along with websocket feed to get real-time information"
   ]
  },
  {
   "cell_type": "markdown",
   "metadata": {},
   "source": [
    "### using get product order book"
   ]
  },
  {
   "cell_type": "code",
   "execution_count": 10,
   "metadata": {},
   "outputs": [],
   "source": [
    "#help(public_client.get_product_order_book)"
   ]
  },
  {
   "cell_type": "code",
   "execution_count": 11,
   "metadata": {},
   "outputs": [
    {
     "data": {
      "text/plain": [
       "{'bids': [['11989.99', '2.16326387', 6]],\n",
       " 'asks': [['11990', '0.87307797', 1]],\n",
       " 'sequence': 15802671392}"
      ]
     },
     "execution_count": 11,
     "metadata": {},
     "output_type": "execute_result"
    }
   ],
   "source": [
    "#level 1: only the best bid and ask\n",
    "#level 2: top 50 bids and asks\n",
    "#level 3: full order book (non-aggregated)\n",
    "public_client.get_product_order_book('BTC-USD', level = 1)\n"
   ]
  },
  {
   "cell_type": "markdown",
   "metadata": {},
   "source": [
    "#### Subscribing to websocket feed"
   ]
  },
  {
   "cell_type": "markdown",
   "metadata": {},
   "source": [
    "This approach works but it's difficult to use mongo database to store responses, I will try a different approach"
   ]
  },
  {
   "cell_type": "code",
   "execution_count": 12,
   "metadata": {},
   "outputs": [],
   "source": [
    "#help(cbpro.WebsocketClient)"
   ]
  },
  {
   "cell_type": "markdown",
   "metadata": {},
   "source": [
    "Will be using the ticker channel, this gives real-time price updates every time a match happens."
   ]
  },
  {
   "cell_type": "code",
   "execution_count": 13,
   "metadata": {},
   "outputs": [],
   "source": [
    "mongo_client = MongoClient('mongodb://localhost:27017/')\n",
    "\n",
    "# specify the database and collection\n",
    "db = mongo_client.cryptocurrency_database\n",
    "BTC_collection = db.BTC_collection"
   ]
  },
  {
   "cell_type": "code",
   "execution_count": 15,
   "metadata": {},
   "outputs": [
    {
     "name": "stdout",
     "output_type": "stream",
     "text": [
      "-- Subscribed! --\n",
      "\n",
      "{'type': 'subscriptions', 'channels': [{'name': 'ticker', 'product_ids': ['BTC-USD']}]}\n",
      "{'type': 'ticker', 'sequence': 15823280339, 'product_id': 'BTC-USD', 'price': '11700.74', 'open_24h': '11989.34', 'volume_24h': '16344.71977623', 'low_24h': '11611.75', 'high_24h': '12099.99', 'volume_30d': '484322.37611302', 'best_bid': '11700.00', 'best_ask': '11700.74', 'side': 'buy', 'time': '2020-08-19T19:26:28.451776Z', 'trade_id': 100717050, 'last_size': '0.01250089'}\n",
      "{'type': 'ticker', 'sequence': 15823280425, 'product_id': 'BTC-USD', 'price': '11700.73', 'open_24h': '11989.34', 'volume_24h': '16344.72385861', 'low_24h': '11611.75', 'high_24h': '12099.99', 'volume_30d': '484322.38019540', 'best_bid': '11700.00', 'best_ask': '11700.73', 'side': 'buy', 'time': '2020-08-19T19:26:28.946544Z', 'trade_id': 100717051, 'last_size': '0.00408238'}\n",
      "{'type': 'ticker', 'sequence': 15823280586, 'product_id': 'BTC-USD', 'price': '11700.74', 'open_24h': '11989.34', 'volume_24h': '16344.80514016', 'low_24h': '11611.75', 'high_24h': '12099.99', 'volume_30d': '484322.46147695', 'best_bid': '11700.00', 'best_ask': '11700.75', 'side': 'buy', 'time': '2020-08-19T19:26:31.007188Z', 'trade_id': 100717052, 'last_size': '0.08128155'}\n",
      "{'type': 'ticker', 'sequence': 15823280588, 'product_id': 'BTC-USD', 'price': '11700.75', 'open_24h': '11989.34', 'volume_24h': '16344.84236718', 'low_24h': '11611.75', 'high_24h': '12099.99', 'volume_30d': '484322.49870397', 'best_bid': '11700.00', 'best_ask': '11701.04', 'side': 'buy', 'time': '2020-08-19T19:26:31.007188Z', 'trade_id': 100717053, 'last_size': '0.03722702'}\n",
      "{'type': 'ticker', 'sequence': 15823280590, 'product_id': 'BTC-USD', 'price': '11701.04', 'open_24h': '11989.34', 'volume_24h': '16345.06451927', 'low_24h': '11611.75', 'high_24h': '12099.99', 'volume_30d': '484322.72085606', 'best_bid': '11700.00', 'best_ask': '11701.04', 'side': 'buy', 'time': '2020-08-19T19:26:31.007188Z', 'trade_id': 100717054, 'last_size': '0.22215209'}\n",
      "{'type': 'ticker', 'sequence': 15823280633, 'product_id': 'BTC-USD', 'price': '11701.05', 'open_24h': '11989.34', 'volume_24h': '16345.06901614', 'low_24h': '11611.75', 'high_24h': '12099.99', 'volume_30d': '484322.72535293', 'best_bid': '11700.00', 'best_ask': '11701.05', 'side': 'buy', 'time': '2020-08-19T19:26:31.316067Z', 'trade_id': 100717055, 'last_size': '0.00449687'}\n",
      "{'type': 'ticker', 'sequence': 15823280788, 'product_id': 'BTC-USD', 'price': '11700.73', 'open_24h': '11989.34', 'volume_24h': '16345.08197040', 'low_24h': '11611.75', 'high_24h': '12099.99', 'volume_30d': '484322.73830719', 'best_bid': '11700.00', 'best_ask': '11700.73', 'side': 'buy', 'time': '2020-08-19T19:26:32.580733Z', 'trade_id': 100717056, 'last_size': '0.01295426'}\n",
      "{'type': 'ticker', 'sequence': 15823280880, 'product_id': 'BTC-USD', 'price': '11700.74', 'open_24h': '11989.34', 'volume_24h': '16345.08396967', 'low_24h': '11611.75', 'high_24h': '12099.99', 'volume_30d': '484322.74030646', 'best_bid': '11700.00', 'best_ask': '11700.74', 'side': 'buy', 'time': '2020-08-19T19:26:33.606162Z', 'trade_id': 100717057, 'last_size': '0.00199927'}\n",
      "{'type': 'ticker', 'sequence': 15823281022, 'product_id': 'BTC-USD', 'price': '11700.74', 'open_24h': '11989.34', 'volume_24h': '16345.08839785', 'low_24h': '11611.75', 'high_24h': '12099.99', 'volume_30d': '484322.74473464', 'best_bid': '11700.00', 'best_ask': '11700.74', 'side': 'buy', 'time': '2020-08-19T19:26:35.963254Z', 'trade_id': 100717058, 'last_size': '0.00442818'}\n",
      "{'type': 'ticker', 'sequence': 15823281056, 'product_id': 'BTC-USD', 'price': '11700.74', 'open_24h': '11989.34', 'volume_24h': '16345.09264982', 'low_24h': '11611.75', 'high_24h': '12099.99', 'volume_30d': '484322.74898661', 'best_bid': '11700.00', 'best_ask': '11700.74', 'side': 'buy', 'time': '2020-08-19T19:26:36.549700Z', 'trade_id': 100717059, 'last_size': '0.00425197'}\n",
      "{'type': 'ticker', 'sequence': 15823281148, 'product_id': 'BTC-USD', 'price': '11700.73', 'open_24h': '11989.34', 'volume_24h': '16345.10940016', 'low_24h': '11611.75', 'high_24h': '12099.99', 'volume_30d': '484322.76573695', 'best_bid': '11700.00', 'best_ask': '11700.73', 'side': 'buy', 'time': '2020-08-19T19:26:37.588415Z', 'trade_id': 100717060, 'last_size': '0.01675034'}\n",
      "{'type': 'ticker', 'sequence': 15823281821, 'product_id': 'BTC-USD', 'price': '11700.01', 'open_24h': '11989.34', 'volume_24h': '16345.11484112', 'low_24h': '11611.75', 'high_24h': '12099.99', 'volume_30d': '484322.77117791', 'best_bid': '11700.00', 'best_ask': '11700.01', 'side': 'buy', 'time': '2020-08-19T19:26:40.197100Z', 'trade_id': 100717061, 'last_size': '0.00544096'}\n",
      "{'type': 'ticker', 'sequence': 15823282073, 'product_id': 'BTC-USD', 'price': '11700.01', 'open_24h': '11989.34', 'volume_24h': '16345.12464289', 'low_24h': '11611.75', 'high_24h': '12099.99', 'volume_30d': '484322.78097968', 'best_bid': '11700.00', 'best_ask': '11700.01', 'side': 'buy', 'time': '2020-08-19T19:26:41.880797Z', 'trade_id': 100717062, 'last_size': '0.00980177'}\n",
      "{'type': 'ticker', 'sequence': 15823282203, 'product_id': 'BTC-USD', 'price': '11700.01', 'open_24h': '11989.34', 'volume_24h': '16345.13289331', 'low_24h': '11611.75', 'high_24h': '12099.99', 'volume_30d': '484322.78923010', 'best_bid': '11700.00', 'best_ask': '11700.01', 'side': 'buy', 'time': '2020-08-19T19:26:43.481468Z', 'trade_id': 100717063, 'last_size': '0.00825042'}\n",
      "{'type': 'ticker', 'sequence': 15823282241, 'product_id': 'BTC-USD', 'price': '11700', 'open_24h': '11989.34', 'volume_24h': '16345.15393945', 'low_24h': '11611.75', 'high_24h': '12099.99', 'volume_30d': '484322.81027624', 'best_bid': '11700.00', 'best_ask': '11700.01', 'side': 'sell', 'time': '2020-08-19T19:26:44.018046Z', 'trade_id': 100717064, 'last_size': '0.02104614'}\n",
      "{'type': 'ticker', 'sequence': 15823282300, 'product_id': 'BTC-USD', 'price': '11700.01', 'open_24h': '11989.34', 'volume_24h': '16345.15847066', 'low_24h': '11611.75', 'high_24h': '12099.99', 'volume_30d': '484322.81480745', 'best_bid': '11700.00', 'best_ask': '11700.01', 'side': 'buy', 'time': '2020-08-19T19:26:44.533051Z', 'trade_id': 100717065, 'last_size': '0.00453121'}\n",
      "{'type': 'ticker', 'sequence': 15823282569, 'product_id': 'BTC-USD', 'price': '11700.01', 'open_24h': '11989.34', 'volume_24h': '16345.16985409', 'low_24h': '11611.75', 'high_24h': '12099.99', 'volume_30d': '484322.82619088', 'best_bid': '11700.00', 'best_ask': '11700.01', 'side': 'buy', 'time': '2020-08-19T19:26:45.932829Z', 'trade_id': 100717066, 'last_size': '0.01138343'}\n",
      "{'type': 'ticker', 'sequence': 15823283080, 'product_id': 'BTC-USD', 'price': '11700.01', 'open_24h': '11989.34', 'volume_24h': '16345.17479224', 'low_24h': '11611.75', 'high_24h': '12099.99', 'volume_30d': '484322.83112903', 'best_bid': '11700.00', 'best_ask': '11700.01', 'side': 'buy', 'time': '2020-08-19T19:26:48.577652Z', 'trade_id': 100717067, 'last_size': '0.00493815'}\n",
      "{'type': 'ticker', 'sequence': 15823283097, 'product_id': 'BTC-USD', 'price': '11700', 'open_24h': '11989.34', 'volume_24h': '16345.24070885', 'low_24h': '11611.75', 'high_24h': '12099.99', 'volume_30d': '484322.89704564', 'best_bid': '11700.00', 'best_ask': '11700.01', 'side': 'sell', 'time': '2020-08-19T19:26:48.664624Z', 'trade_id': 100717068, 'last_size': '0.06591661'}\n",
      "{'type': 'ticker', 'sequence': 15823283099, 'product_id': 'BTC-USD', 'price': '11700', 'open_24h': '11989.34', 'volume_24h': '16345.25070885', 'low_24h': '11611.75', 'high_24h': '12099.99', 'volume_30d': '484322.90704564', 'best_bid': '11700.00', 'best_ask': '11700.01', 'side': 'sell', 'time': '2020-08-19T19:26:48.664624Z', 'trade_id': 100717069, 'last_size': '0.01'}\n",
      "{'type': 'ticker', 'sequence': 15823283101, 'product_id': 'BTC-USD', 'price': '11700', 'open_24h': '11989.34', 'volume_24h': '16345.27978461', 'low_24h': '11611.75', 'high_24h': '12099.99', 'volume_30d': '484322.93612140', 'best_bid': '11700.00', 'best_ask': '11700.01', 'side': 'sell', 'time': '2020-08-19T19:26:48.664624Z', 'trade_id': 100717070, 'last_size': '0.02907576'}\n",
      "{'type': 'ticker', 'sequence': 15823283182, 'product_id': 'BTC-USD', 'price': '11700.01', 'open_24h': '11989.34', 'volume_24h': '16345.31672700', 'low_24h': '11611.75', 'high_24h': '12099.99', 'volume_30d': '484322.97306379', 'best_bid': '11700.00', 'best_ask': '11700.01', 'side': 'buy', 'time': '2020-08-19T19:26:49.262262Z', 'trade_id': 100717071, 'last_size': '0.03694239'}\n",
      "{'type': 'ticker', 'sequence': 15823283184, 'product_id': 'BTC-USD', 'price': '11700.01', 'open_24h': '11989.34', 'volume_24h': '16345.36482939', 'low_24h': '11611.75', 'high_24h': '12099.99', 'volume_30d': '484323.02116618', 'best_bid': '11700.00', 'best_ask': '11700.01', 'side': 'buy', 'time': '2020-08-19T19:26:49.262262Z', 'trade_id': 100717072, 'last_size': '0.04810239'}\n",
      "{'type': 'ticker', 'sequence': 15823283258, 'product_id': 'BTC-USD', 'price': '11700', 'open_24h': '11989.34', 'volume_24h': '16345.38630428', 'low_24h': '11611.75', 'high_24h': '12099.99', 'volume_30d': '484323.04264107', 'best_bid': '11700.00', 'best_ask': '11700.01', 'side': 'sell', 'time': '2020-08-19T19:26:49.920240Z', 'trade_id': 100717073, 'last_size': '0.02147489'}\n",
      "{'type': 'ticker', 'sequence': 15823283265, 'product_id': 'BTC-USD', 'price': '11700.01', 'open_24h': '11989.34', 'volume_24h': '16345.39481960', 'low_24h': '11611.75', 'high_24h': '12099.99', 'volume_30d': '484323.05115639', 'best_bid': '11700.00', 'best_ask': '11700.01', 'side': 'buy', 'time': '2020-08-19T19:26:50.000184Z', 'trade_id': 100717074, 'last_size': '0.00851532'}\n",
      "{'type': 'ticker', 'sequence': 15823283299, 'product_id': 'BTC-USD', 'price': '11700.01', 'open_24h': '11989.34', 'volume_24h': '16345.41995884', 'low_24h': '11611.75', 'high_24h': '12099.99', 'volume_30d': '484323.07629563', 'best_bid': '11700.00', 'best_ask': '11700.01', 'side': 'buy', 'time': '2020-08-19T19:26:50.198381Z', 'trade_id': 100717075, 'last_size': '0.02513924'}\n",
      "{'type': 'ticker', 'sequence': 15823283515, 'product_id': 'BTC-USD', 'price': '11700', 'open_24h': '11989.34', 'volume_24h': '16345.42554232', 'low_24h': '11611.75', 'high_24h': '12099.99', 'volume_30d': '484323.08187911', 'best_bid': '11700.00', 'best_ask': '11700.01', 'side': 'sell', 'time': '2020-08-19T19:26:51.645659Z', 'trade_id': 100717076, 'last_size': '0.00558348'}\n",
      "{'type': 'ticker', 'sequence': 15823283611, 'product_id': 'BTC-USD', 'price': '11700', 'open_24h': '11989.34', 'volume_24h': '16345.51554232', 'low_24h': '11611.75', 'high_24h': '12099.99', 'volume_30d': '484323.17187911', 'best_bid': '11700.00', 'best_ask': '11700.01', 'side': 'sell', 'time': '2020-08-19T19:26:52.162107Z', 'trade_id': 100717077, 'last_size': '0.09'}\n",
      "{'type': 'ticker', 'sequence': 15823283717, 'product_id': 'BTC-USD', 'price': '11700.01', 'open_24h': '11989.34', 'volume_24h': '16345.51919987', 'low_24h': '11611.75', 'high_24h': '12099.99', 'volume_30d': '484323.17553666', 'best_bid': '11700.00', 'best_ask': '11700.01', 'side': 'buy', 'time': '2020-08-19T19:26:52.906677Z', 'trade_id': 100717078, 'last_size': '0.00365755'}\n",
      "{'type': 'ticker', 'sequence': 15823283978, 'product_id': 'BTC-USD', 'price': '11700', 'open_24h': '11989.34', 'volume_24h': '16345.52019987', 'low_24h': '11611.75', 'high_24h': '12099.99', 'volume_30d': '484323.17653666', 'best_bid': '11700.00', 'best_ask': '11700.01', 'side': 'sell', 'time': '2020-08-19T19:26:54.699029Z', 'trade_id': 100717079, 'last_size': '0.001'}\n",
      "{'type': 'ticker', 'sequence': 15823283980, 'product_id': 'BTC-USD', 'price': '11700', 'open_24h': '11989.34', 'volume_24h': '16345.53349987', 'low_24h': '11611.75', 'high_24h': '12099.99', 'volume_30d': '484323.18983666', 'best_bid': '11700.00', 'best_ask': '11700.01', 'side': 'sell', 'time': '2020-08-19T19:26:54.699029Z', 'trade_id': 100717080, 'last_size': '0.0133'}\n",
      "{'type': 'ticker', 'sequence': 15823283982, 'product_id': 'BTC-USD', 'price': '11700', 'open_24h': '11989.34', 'volume_24h': '16345.54409987', 'low_24h': '11611.75', 'high_24h': '12099.99', 'volume_30d': '484323.20043666', 'best_bid': '11700.00', 'best_ask': '11700.01', 'side': 'sell', 'time': '2020-08-19T19:26:54.699029Z', 'trade_id': 100717081, 'last_size': '0.0106'}\n",
      "{'type': 'ticker', 'sequence': 15823283984, 'product_id': 'BTC-USD', 'price': '11700', 'open_24h': '11989.34', 'volume_24h': '16345.54679987', 'low_24h': '11611.75', 'high_24h': '12099.99', 'volume_30d': '484323.20313666', 'best_bid': '11700.00', 'best_ask': '11700.01', 'side': 'sell', 'time': '2020-08-19T19:26:54.699029Z', 'trade_id': 100717082, 'last_size': '0.0027'}\n",
      "{'type': 'ticker', 'sequence': 15823283986, 'product_id': 'BTC-USD', 'price': '11700', 'open_24h': '11989.34', 'volume_24h': '16345.54879987', 'low_24h': '11611.75', 'high_24h': '12099.99', 'volume_30d': '484323.20513666', 'best_bid': '11700.00', 'best_ask': '11700.01', 'side': 'sell', 'time': '2020-08-19T19:26:54.699029Z', 'trade_id': 100717083, 'last_size': '0.002'}\n",
      "{'type': 'ticker', 'sequence': 15823283988, 'product_id': 'BTC-USD', 'price': '11700', 'open_24h': '11989.34', 'volume_24h': '16345.56099987', 'low_24h': '11611.75', 'high_24h': '12099.99', 'volume_30d': '484323.21733666', 'best_bid': '11700.00', 'best_ask': '11700.01', 'side': 'sell', 'time': '2020-08-19T19:26:54.699029Z', 'trade_id': 100717084, 'last_size': '0.0122'}\n",
      "{'type': 'ticker', 'sequence': 15823283990, 'product_id': 'BTC-USD', 'price': '11700', 'open_24h': '11989.34', 'volume_24h': '16345.56279987', 'low_24h': '11611.75', 'high_24h': '12099.99', 'volume_30d': '484323.21913666', 'best_bid': '11700.00', 'best_ask': '11700.01', 'side': 'sell', 'time': '2020-08-19T19:26:54.699029Z', 'trade_id': 100717085, 'last_size': '0.0018'}\n",
      "{'type': 'ticker', 'sequence': 15823283992, 'product_id': 'BTC-USD', 'price': '11700', 'open_24h': '11989.34', 'volume_24h': '16345.56689987', 'low_24h': '11611.75', 'high_24h': '12099.99', 'volume_30d': '484323.22323666', 'best_bid': '11700.00', 'best_ask': '11700.01', 'side': 'sell', 'time': '2020-08-19T19:26:54.699029Z', 'trade_id': 100717086, 'last_size': '0.0041'}\n",
      "{'type': 'ticker', 'sequence': 15823283994, 'product_id': 'BTC-USD', 'price': '11700', 'open_24h': '11989.34', 'volume_24h': '16345.57259987', 'low_24h': '11611.75', 'high_24h': '12099.99', 'volume_30d': '484323.22893666', 'best_bid': '11700.00', 'best_ask': '11700.01', 'side': 'sell', 'time': '2020-08-19T19:26:54.699029Z', 'trade_id': 100717087, 'last_size': '0.0057'}\n",
      "{'type': 'ticker', 'sequence': 15823283996, 'product_id': 'BTC-USD', 'price': '11700', 'open_24h': '11989.34', 'volume_24h': '16345.57306987', 'low_24h': '11611.75', 'high_24h': '12099.99', 'volume_30d': '484323.22940666', 'best_bid': '11700.00', 'best_ask': '11700.01', 'side': 'sell', 'time': '2020-08-19T19:26:54.699029Z', 'trade_id': 100717088, 'last_size': '0.00047'}\n",
      "{'type': 'ticker', 'sequence': 15823284240, 'product_id': 'BTC-USD', 'price': '11700.01', 'open_24h': '11989.34', 'volume_24h': '16345.57506901', 'low_24h': '11611.75', 'high_24h': '12099.99', 'volume_30d': '484323.23140580', 'best_bid': '11700.00', 'best_ask': '11700.01', 'side': 'buy', 'time': '2020-08-19T19:26:56.677866Z', 'trade_id': 100717089, 'last_size': '0.00199914'}\n",
      "{'type': 'ticker', 'sequence': 15823284396, 'product_id': 'BTC-USD', 'price': '11700.01', 'open_24h': '11989.34', 'volume_24h': '16345.95215165', 'low_24h': '11611.75', 'high_24h': '12099.99', 'volume_30d': '484323.60848844', 'best_bid': '11700.00', 'best_ask': '11700.01', 'side': 'buy', 'time': '2020-08-19T19:26:58.453610Z', 'trade_id': 100717090, 'last_size': '0.37708264'}\n",
      "{'type': 'ticker', 'sequence': 15823284428, 'product_id': 'BTC-USD', 'price': '11700.01', 'open_24h': '11989.34', 'volume_24h': '16346.05137499', 'low_24h': '11611.75', 'high_24h': '12099.99', 'volume_30d': '484323.70771178', 'best_bid': '11700.00', 'best_ask': '11700.01', 'side': 'buy', 'time': '2020-08-19T19:26:58.751766Z', 'trade_id': 100717091, 'last_size': '0.09922334'}\n",
      "{'type': 'ticker', 'sequence': 15823284430, 'product_id': 'BTC-USD', 'price': '11700.01', 'open_24h': '11989.34', 'volume_24h': '16346.05215165', 'low_24h': '11611.75', 'high_24h': '12099.99', 'volume_30d': '484323.70848844', 'best_bid': '11700.00', 'best_ask': '11700.01', 'side': 'buy', 'time': '2020-08-19T19:26:58.751766Z', 'trade_id': 100717092, 'last_size': '0.00077666'}\n",
      "{'type': 'ticker', 'sequence': 15823285157, 'product_id': 'BTC-USD', 'price': '11700.01', 'open_24h': '11989.34', 'volume_24h': '16346.05623455', 'low_24h': '11611.75', 'high_24h': '12099.99', 'volume_30d': '484323.71257134', 'best_bid': '11700.00', 'best_ask': '11700.01', 'side': 'buy', 'time': '2020-08-19T19:27:00.515694Z', 'trade_id': 100717093, 'last_size': '0.0040829'}\n",
      "{'type': 'ticker', 'sequence': 15823285351, 'product_id': 'BTC-USD', 'price': '11700', 'open_24h': '11989.34', 'volume_24h': '16346.05949447', 'low_24h': '11611.75', 'high_24h': '12099.99', 'volume_30d': '484323.71583126', 'best_bid': '11700.00', 'best_ask': '11700.01', 'side': 'sell', 'time': '2020-08-19T19:27:01.163953Z', 'trade_id': 100717094, 'last_size': '0.00325992'}\n"
     ]
    }
   ],
   "source": [
    "wsClient = cbpro.WebsocketClient(url='wss://ws-feed.pro.coinbase.com',products=\"BTC-USD\",channels=[\"ticker\"])\n",
    "db = wsClient.start()"
   ]
  },
  {
   "cell_type": "code",
   "execution_count": 16,
   "metadata": {},
   "outputs": [
    {
     "name": "stdout",
     "output_type": "stream",
     "text": [
      "{'type': 'ticker', 'sequence': 15823285431, 'product_id': 'BTC-USD', 'price': '11700.01', 'open_24h': '11989.34', 'volume_24h': '16346.07241157', 'low_24h': '11611.75', 'high_24h': '12099.99', 'volume_30d': '484323.72874836', 'best_bid': '11700.00', 'best_ask': '11700.01', 'side': 'buy', 'time': '2020-08-19T19:27:01.452310Z', 'trade_id': 100717095, 'last_size': '0.0129171'}\n",
      "{'type': 'ticker', 'sequence': 15823285433, 'product_id': 'BTC-USD', 'price': '11700.01', 'open_24h': '11989.34', 'volume_24h': '16346.10651914', 'low_24h': '11611.75', 'high_24h': '12099.99', 'volume_30d': '484323.76285593', 'best_bid': '11700.00', 'best_ask': '11700.01', 'side': 'buy', 'time': '2020-08-19T19:27:01.452310Z', 'trade_id': 100717096, 'last_size': '0.03410757'}\n",
      "{'type': 'ticker', 'sequence': 15823285577, 'product_id': 'BTC-USD', 'price': '11700.01', 'open_24h': '11989.34', 'volume_24h': '16346.11441157', 'low_24h': '11611.75', 'high_24h': '12099.99', 'volume_30d': '484323.77074836', 'best_bid': '11700.00', 'best_ask': '11700.01', 'side': 'buy', 'time': '2020-08-19T19:27:02.150917Z', 'trade_id': 100717097, 'last_size': '0.00789243'}\n",
      "\n",
      "-- Socket Closed --\n"
     ]
    }
   ],
   "source": [
    "wsClient.close()"
   ]
  },
  {
   "cell_type": "markdown",
   "metadata": {},
   "source": [
    "### Using Async and Websocket libraries"
   ]
  },
  {
   "cell_type": "markdown",
   "metadata": {},
   "source": [
    "I couldn't figure out how to do this so I will try to use websocket client\n",
    "with threading instead."
   ]
  },
  {
   "cell_type": "code",
   "execution_count": 27,
   "metadata": {},
   "outputs": [],
   "source": [
    "import asyncio\n",
    "import websockets\n",
    "import json\n",
    "import nest_asyncio\n",
    "nest_asyncio.apply()"
   ]
  },
  {
   "cell_type": "code",
   "execution_count": 28,
   "metadata": {},
   "outputs": [],
   "source": [
    "#help(websockets.connect)"
   ]
  },
  {
   "cell_type": "code",
   "execution_count": 29,
   "metadata": {},
   "outputs": [
    {
     "data": {
      "text/plain": [
       "'{\"type\": \"subscribe\", \"product_ids\": [\"BTC-USD\"], \"channels\": [\"ticker\"]}'"
      ]
     },
     "execution_count": 29,
     "metadata": {},
     "output_type": "execute_result"
    }
   ],
   "source": [
    "#how to turn string to json\n",
    "message = {\"type\": \"subscribe\", \"product_ids\":[\"BTC-USD\"],\"channels\":[\"ticker\"]}\n",
    "message = json.dumps(message)\n",
    "message"
   ]
  },
  {
   "cell_type": "code",
   "execution_count": 37,
   "metadata": {},
   "outputs": [
    {
     "name": "stdout",
     "output_type": "stream",
     "text": [
      "{\"type\":\"subscriptions\",\"channels\":[{\"name\":\"ticker\",\"product_ids\":[\"BTC-USD\"]}]}\n"
     ]
    }
   ],
   "source": [
    "async def coinbaseWS():\n",
    "    uri = \"wss://ws-feed.pro.coinbase.com\"\n",
    "    async with websockets.connect(uri) as websocket:\n",
    "        await websocket.send(message)\n",
    "        response = await websocket.recv()\n",
    "        print(response)\n",
    "asyncio.get_event_loop().run_until_complete(coinbaseWS())"
   ]
  },
  {
   "cell_type": "code",
   "execution_count": 34,
   "metadata": {},
   "outputs": [
    {
     "data": {
      "text/plain": [
       "<coroutine object coinbaseWS at 0x7fb2dbd885f0>"
      ]
     },
     "execution_count": 34,
     "metadata": {},
     "output_type": "execute_result"
    }
   ],
   "source": [
    "asyncio."
   ]
  },
  {
   "cell_type": "markdown",
   "metadata": {},
   "source": [
    "### Using Threading with Websocket"
   ]
  },
  {
   "cell_type": "code",
   "execution_count": 1,
   "metadata": {},
   "outputs": [],
   "source": [
    "import json\n",
    "import time\n",
    "from threading import Thread\n",
    "from websocket import create_connection"
   ]
  },
  {
   "cell_type": "code",
   "execution_count": 21,
   "metadata": {},
   "outputs": [],
   "source": [
    "class coinbase_websocket(dataframe):\n",
    "    \n",
    "    def __init__(\n",
    "        self,\n",
    "        connection_switch = False ,\n",
    "        base_URI =  \"wss://ws-feed.pro.coinbase.com\",\n",
    "        request_message = {\"type\": \"subscribe\", \"product_ids\":[\"BTC-USD\"],\"channels\":[\"ticker\"]}):\n",
    "        \n",
    "        self.connection_switch = connection_switch\n",
    "        self.main_thread = None\n",
    "        self.WS_connection = None\n",
    "        self.base_URI = base_URI\n",
    "        self.request_message = json.dumps(request_message)\n",
    "        \n",
    "    def connection(self):\n",
    "        self.WS_Connection = create_connection(self.base_URI)\n",
    "        self.WS_Connection.send(self.request_message)\n",
    "        data = self.WS_Connection.recv()\n",
    "        print(json.loads(data))\n",
    "        print(\"Connection Succesful\")\n",
    "    \n",
    "    def stay_alive(self):\n",
    "        while self.WS_Connection.connected: \n",
    "            self.WS_Connection.ping(\"keepalive\")\n",
    "            time.sleep(30)\n",
    "    \n",
    "    def receive_messages(self):\n",
    "        #keep_alive thread is running in parallel to main_thread\n",
    "        #keep_alive is now on\n",
    "        self.keep_alive.start()\n",
    "        \n",
    "        while self.connection_switch == True:\n",
    "            data = self.WS_Connection.recv()\n",
    "            message = json.loads(data)\n",
    "            dataframe = \n",
    "            print(message)\n",
    "            ##here we will add to a data frame or data base, which ever is best suited\n",
    "    \n",
    "    #close function needs work, but the rest is good.       \n",
    "    def close(self):\n",
    "        self.connection_switch = False\n",
    "        self.WS_Connection.close()\n",
    "        self.keep_alive.join()\n",
    "        self.main_thread.join()\n",
    "        print(\"Connection is closed\")\n",
    "    \n",
    "    def start(self):\n",
    "        def go():\n",
    "            self.connection()\n",
    "            self.receive_messages()\n",
    "        \n",
    "        #connection_switch turned on and threads are created.\n",
    "        self.connection_switch = True\n",
    "        self.main_thread = Thread(target= go)\n",
    "        self.keep_alive = Thread(target= self.stay_alive)\n",
    "        \n",
    "        #start main_thread\n",
    "        self.main_thread.start()    \n",
    "    "
   ]
  },
  {
   "cell_type": "code",
   "execution_count": 22,
   "metadata": {},
   "outputs": [],
   "source": [
    "WS = coinbase_websocket()"
   ]
  },
  {
   "cell_type": "code",
   "execution_count": 23,
   "metadata": {},
   "outputs": [
    {
     "name": "stdout",
     "output_type": "stream",
     "text": [
      "{'type': 'subscriptions', 'channels': [{'name': 'ticker', 'product_ids': ['BTC-USD']}]}\n",
      "Connection Succesful\n",
      "{'type': 'ticker', 'sequence': 15825936716, 'product_id': 'BTC-USD', 'price': '11731.84', 'open_24h': '12053.25', 'volume_24h': '16546.67737280', 'low_24h': '11569', 'high_24h': '12053.25', 'volume_30d': '486135.85298892', 'best_bid': '11731.83', 'best_ask': '11731.84', 'side': 'buy', 'time': '2020-08-19T22:10:11.348167Z', 'trade_id': 100736937, 'last_size': '0.02095017'}\n",
      "{'type': 'ticker', 'sequence': 15825936958, 'product_id': 'BTC-USD', 'price': '11731.83', 'open_24h': '12053.25', 'volume_24h': '16546.72283307', 'low_24h': '11569', 'high_24h': '12053.25', 'volume_30d': '486135.89844919', 'best_bid': '11731.83', 'best_ask': '11731.84', 'side': 'sell', 'time': '2020-08-19T22:10:13.038203Z', 'trade_id': 100736938, 'last_size': '0.04546027'}\n",
      "{'type': 'ticker', 'sequence': 15825936960, 'product_id': 'BTC-USD', 'price': '11731.83', 'open_24h': '12053.25', 'volume_24h': '16546.72877184', 'low_24h': '11569', 'high_24h': '12053.25', 'volume_30d': '486135.90438796', 'best_bid': '11731.83', 'best_ask': '11731.84', 'side': 'sell', 'time': '2020-08-19T22:10:13.038203Z', 'trade_id': 100736939, 'last_size': '0.00593877'}\n",
      "{'type': 'ticker', 'sequence': 15825936970, 'product_id': 'BTC-USD', 'price': '11731.84', 'open_24h': '12053.25', 'volume_24h': '16546.73634124', 'low_24h': '11569', 'high_24h': '12053.25', 'volume_30d': '486135.91195736', 'best_bid': '11731.83', 'best_ask': '11731.84', 'side': 'buy', 'time': '2020-08-19T22:10:13.057965Z', 'trade_id': 100736940, 'last_size': '0.0075694'}\n",
      "{'type': 'ticker', 'sequence': 15825937019, 'product_id': 'BTC-USD', 'price': '11731.84', 'open_24h': '12053.25', 'volume_24h': '16546.74979868', 'low_24h': '11569', 'high_24h': '12053.25', 'volume_30d': '486135.92541480', 'best_bid': '11731.83', 'best_ask': '11731.84', 'side': 'buy', 'time': '2020-08-19T22:10:13.661646Z', 'trade_id': 100736941, 'last_size': '0.01345744'}\n",
      "{'type': 'ticker', 'sequence': 15825937035, 'product_id': 'BTC-USD', 'price': '11731.84', 'open_24h': '12053.25', 'volume_24h': '16546.75795440', 'low_24h': '11569', 'high_24h': '12053.25', 'volume_30d': '486135.93357052', 'best_bid': '11731.83', 'best_ask': '11731.84', 'side': 'buy', 'time': '2020-08-19T22:10:13.811274Z', 'trade_id': 100736942, 'last_size': '0.00815572'}\n",
      "{'type': 'ticker', 'sequence': 15825937062, 'product_id': 'BTC-USD', 'price': '11731.84', 'open_24h': '12053.25', 'volume_24h': '16546.76200192', 'low_24h': '11569', 'high_24h': '12053.25', 'volume_30d': '486135.93761804', 'best_bid': '11731.83', 'best_ask': '11731.84', 'side': 'buy', 'time': '2020-08-19T22:10:14.070383Z', 'trade_id': 100736943, 'last_size': '0.00404752'}\n"
     ]
    }
   ],
   "source": [
    "WS.start()"
   ]
  },
  {
   "cell_type": "code",
   "execution_count": 25,
   "metadata": {},
   "outputs": [],
   "source": [
    "#WS.close()"
   ]
  },
  {
   "cell_type": "code",
   "execution_count": null,
   "metadata": {},
   "outputs": [],
   "source": []
  }
 ],
 "metadata": {
  "kernelspec": {
   "display_name": "Python 3",
   "language": "python",
   "name": "python3"
  },
  "language_info": {
   "codemirror_mode": {
    "name": "ipython",
    "version": 3
   },
   "file_extension": ".py",
   "mimetype": "text/x-python",
   "name": "python",
   "nbconvert_exporter": "python",
   "pygments_lexer": "ipython3",
   "version": "3.7.5"
  }
 },
 "nbformat": 4,
 "nbformat_minor": 4
}
